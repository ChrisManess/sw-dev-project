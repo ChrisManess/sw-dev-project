{
 "cells": [
  {
   "cell_type": "markdown",
   "metadata": {},
   "source": [
    "# Chronicling America example"
   ]
  },
  {
   "cell_type": "markdown",
   "metadata": {},
   "source": [
    "This notebookprovides sample code for calling the Chronicling America APIs.\n",
    "\n",
    "For reference, see the [Chronicling America API documentation](https://chroniclingamerica.loc.gov/about/api/). "
   ]
  },
  {
   "cell_type": "code",
   "execution_count": null,
   "metadata": {},
   "outputs": [],
   "source": [
    "import requests\n",
    "\n",
    "from collections import Counter"
   ]
  },
  {
   "cell_type": "markdown",
   "metadata": {},
   "source": [
    "Below are two example functions for loading issue metadata and OCR text files from the Chronicling America API."
   ]
  },
  {
   "cell_type": "code",
   "execution_count": null,
   "metadata": {},
   "outputs": [],
   "source": [
    "def get_text(url):\n",
    "    rsp = requests.get(url)\n",
    "    if rsp.status_code != 200:\n",
    "        raise Exception(f\"Unable to load {url}\")\n",
    "    data = rsp.json()\n",
    "    text_url = data[\"text\"]\n",
    "    \n",
    "    txt_rsp = requests.get(text_url)\n",
    "    if txt_rsp.status_code != 200:\n",
    "        raise Exception(f\"Unable to load {text_url}\")\n",
    "    return txt_rsp.text"
   ]
  },
  {
   "cell_type": "code",
   "execution_count": null,
   "metadata": {},
   "outputs": [],
   "source": [
    "def get_issue(_id):\n",
    "    if _id.startswith(\"https\"):\n",
    "        url = _id\n",
    "    else:\n",
    "        url = f\"https://chroniclingamerica.loc.gov/lccn/{_id}.json\"\n",
    "    doc = {\n",
    "        \"id\": _id,\n",
    "        \"source\": url\n",
    "    }\n",
    "    rsp = requests.get(url)\n",
    "    if rsp.status_code != 200:\n",
    "        raise Exception(f\"Unable to load {url}\")\n",
    "    issue_data = rsp.json()\n",
    "    return issue_data\n",
    "    "
   ]
  },
  {
   "cell_type": "markdown",
   "metadata": {},
   "source": [
    "Load a single newspaper issue and run two assertion checks to see if we are getting the data we expect."
   ]
  },
  {
   "cell_type": "code",
   "execution_count": null,
   "metadata": {},
   "outputs": [],
   "source": [
    "issue_1 = get_issue(\"sn87093407/1920-05-21/ed-1\")"
   ]
  },
  {
   "cell_type": "code",
   "execution_count": null,
   "metadata": {},
   "outputs": [],
   "source": [
    "assert(issue_1[\"date_issued\"] == \"1920-05-21\")"
   ]
  },
  {
   "cell_type": "code",
   "execution_count": null,
   "metadata": {},
   "outputs": [],
   "source": [
    "assert(len(issue_1[\"pages\"]) == 24)"
   ]
  },
  {
   "cell_type": "markdown",
   "metadata": {},
   "source": [
    "Perform a very basic initial analysis - count the most frequent words in the first two pages of the issue. "
   ]
  },
  {
   "cell_type": "code",
   "execution_count": null,
   "metadata": {},
   "outputs": [],
   "source": [
    "word_count = Counter()\n",
    "n = 0\n",
    "\n",
    "for pg in issue_1[\"pages\"]:\n",
    "    page_text = get_text(pg[\"url\"])\n",
    "    for line in page_text.split(\"\\n\"):\n",
    "        for token in line.split():\n",
    "            clean_token = token.strip(\" ,.\").lower()\n",
    "            if clean_token == \"\":\n",
    "                continue\n",
    "            word_count[clean_token] += 1\n",
    "    n += 1\n",
    "    if n >= 2:\n",
    "        break"
   ]
  },
  {
   "cell_type": "code",
   "execution_count": null,
   "metadata": {},
   "outputs": [],
   "source": [
    "for word, count in word_count.most_common(25):\n",
    "    print(word.ljust(25), count)"
   ]
  },
  {
   "cell_type": "code",
   "execution_count": null,
   "metadata": {},
   "outputs": [],
   "source": []
  }
 ],
 "metadata": {
  "kernelspec": {
   "display_name": "Python 3",
   "language": "python",
   "name": "python3"
  },
  "language_info": {
   "codemirror_mode": {
    "name": "ipython",
    "version": 3
   },
   "file_extension": ".py",
   "mimetype": "text/x-python",
   "name": "python",
   "nbconvert_exporter": "python",
   "pygments_lexer": "ipython3",
   "version": null
  }
 },
 "nbformat": 4,
 "nbformat_minor": 2
}
