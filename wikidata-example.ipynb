{
 "cells": [
  {
   "cell_type": "markdown",
   "metadata": {},
   "source": [
    "# Wikidata query example\n",
    "\n",
    "This notebook provides a simple demonstration of how to submit SPARQL queries to the Wikidata endpoint and generate a simple visualization of the results using python."
   ]
  },
  {
   "cell_type": "markdown",
   "metadata": {},
   "source": [
    "Import the needed python packages"
   ]
  },
  {
   "cell_type": "code",
   "execution_count": 10,
   "metadata": {},
   "outputs": [],
   "source": [
    "import requests\n",
    "import matplotlib.pyplot as plt\n",
    "from urllib.parse import quote"
   ]
  },
  {
   "cell_type": "markdown",
   "metadata": {},
   "source": [
    "Map Wikdata `Q` identifiers to the 4 journal types we want to count."
   ]
  },
  {
   "cell_type": "code",
   "execution_count": 11,
   "metadata": {},
   "outputs": [],
   "source": [
    "journal_types = (\n",
    "    ('Medical journal', 'Q16024164'),\n",
    "    ('Academic journal', 'Q737498'),\n",
    "    ('Open access journal', 'Q773668'),\n",
    "    ('Scientific journal', 'Q5633421')\n",
    ")"
   ]
  },
  {
   "cell_type": "markdown",
   "metadata": {},
   "source": [
    "Defines Wikidata SPARQL endpoint.  Numerous query examples using this endpoint can be found on the [Wikidata examples page](https://www.wikidata.org/wiki/Wikidata:SPARQL_query_service/queries/examples)."
   ]
  },
  {
   "cell_type": "code",
   "execution_count": 12,
   "metadata": {},
   "outputs": [],
   "source": [
    "wikidata_endpoint = 'https://query.wikidata.org/sparql'"
   ]
  },
  {
   "cell_type": "markdown",
   "metadata": {},
   "source": [
    "`do_query` is a simple helper method for setting the HTTP header and submitting the request using the excellent python [requests](https://requests.readthedocs.io/en/master/) package."
   ]
  },
  {
   "cell_type": "code",
   "execution_count": 13,
   "metadata": {},
   "outputs": [],
   "source": [
    "def do_query(query):\n",
    "    url = '%s?query=%s' % (wikidata_endpoint, quote(query))\n",
    "    return requests.get(url, headers={'Accept': 'application/sparql-results+json'}).json()"
   ]
  },
  {
   "cell_type": "markdown",
   "metadata": {},
   "source": [
    "In this example four separate queries are used to generate a count of entities that are an `instance of` (property P31) 4 types of academic journal.  This same information could have been requested in a single SPARQL query using `GROUP BY` clause but Wikidata has become so large (now ~90M entities) that queries of that kind will often time out before completing.  More targeted queries are sometimes required to work around these timeouts. "
   ]
  },
  {
   "cell_type": "code",
   "execution_count": 14,
   "metadata": {},
   "outputs": [],
   "source": [
    "def journals_by_category():\n",
    "    print('\\nJournals by category:')\n",
    "    labels = []\n",
    "    counts = []\n",
    "    for cat, qid in journal_types:\n",
    "        labels.append(cat)\n",
    "        query = '''\n",
    "            SELECT (COUNT(?journal) AS ?count) WHERE {\n",
    "              ?journal wdt:P31 wd:%s . # %s\n",
    "            }\n",
    "        ''' % (qid, cat)\n",
    "        count = int(do_query(query)['results']['bindings'][0]['count']['value'])\n",
    "        counts.append(count)\n",
    "        print('  %s %s' % (cat, count))\n",
    "    plt.pie(counts, labels=labels)\n",
    "    plt.axis('equal')\n",
    "    plt.show()\n",
    "\n",
    "    plt.barh(labels, counts, align='center', alpha=0.5)\n",
    "    plt.title('Journals by category')\n",
    "    plt.show()\n"
   ]
  },
  {
   "cell_type": "code",
   "execution_count": 16,
   "metadata": {},
   "outputs": [
    {
     "name": "stdout",
     "output_type": "stream",
     "text": [
      "\n",
      "Journals by category:\n",
      "  Medical journal 151\n",
      "  Academic journal 18675\n",
      "  Open access journal 11979\n",
      "  Scientific journal 46511\n"
     ]
    },
    {
     "data": {
      "image/png": "[encoded data removed]",
      "text/plain": [
       "<Figure size 432x288 with 1 Axes>"
      ]
     },
     "metadata": {},
     "output_type": "display_data"
    },
    {
     "data": {
      "image/png": "[encoded data removed]",
      "text/plain": [
       "<Figure size 432x288 with 1 Axes>"
      ]
     },
     "metadata": {
      "needs_background": "light"
     },
     "output_type": "display_data"
    }
   ],
   "source": [
    "journals_by_category()"
   ]
  }
 ],
 "metadata": {
  "kernelspec": {
   "display_name": "Python 3",
   "language": "python",
   "name": "python3"
  },
  "language_info": {
   "codemirror_mode": {
    "name": "ipython",
    "version": 3
   },
   "file_extension": ".py",
   "mimetype": "text/x-python",
   "name": "python",
   "nbconvert_exporter": "python",
   "pygments_lexer": "ipython3",
   "version": "3.7.4"
  }
 },
 "nbformat": 4,
 "nbformat_minor": 2
}
