{
 "cells": [
  {
   "cell_type": "markdown",
   "metadata": {},
   "source": [
    "# Wikidata query example\n",
    "\n",
    "This notebook provides a simple demonstration of how to submit SPARQL queries to the Wikidata endpoint and generate a simple visualization of the results using python."
   ]
  },
  {
   "cell_type": "markdown",
   "metadata": {},
   "source": [
    "Import the needed python packages"
   ]
  },
  {
   "cell_type": "code",
   "execution_count": 42,
   "metadata": {},
   "outputs": [],
   "source": [
    "import requests\n",
    "import matplotlib.pyplot as plt"
   ]
  },
  {
   "cell_type": "markdown",
   "metadata": {},
   "source": [
    "Map Wikdata `Q` identifiers to the 4 journal types we want to count."
   ]
  },
  {
   "cell_type": "code",
   "execution_count": 8,
   "metadata": {},
   "outputs": [],
   "source": [
    "journal_types = (\n",
    "    ('Medical journal', 'Q16024164'),\n",
    "    ('Academic journal', 'Q737498'),\n",
    "    ('Open access journal', 'Q773668'),\n",
    "    ('Scientific journal', 'Q5633421')\n",
    ")"
   ]
  },
  {
   "cell_type": "markdown",
   "metadata": {},
   "source": [
    "Defines Wikidata SPARQL endpoint.  Numerous query examples using this endpoint can be found on the [Wikidata examples page](https://www.wikidata.org/wiki/Wikidata:SPARQL_query_service/queries/examples)."
   ]
  },
  {
   "cell_type": "code",
   "execution_count": 9,
   "metadata": {},
   "outputs": [],
   "source": [
    "wikidata_endpoint = 'https://query.wikidata.org/sparql'"
   ]
  },
  {
   "cell_type": "markdown",
   "metadata": {},
   "source": [
    "`do_query` is a simple helper method for setting the HTTP header and submitting the request using the excellent python [requests](https://requests.readthedocs.io/en/master/) package."
   ]
  },
  {
   "cell_type": "code",
   "execution_count": 56,
   "metadata": {},
   "outputs": [],
   "source": [
    "def do_query(query):\n",
    "    rsp = requests.post(\n",
    "        wikidata_endpoint,\n",
    "        data=query,\n",
    "        headers={\n",
    "            'Content-type': 'application/sparql-query',\n",
    "            'Accept': 'application/sparql-results+json',\n",
    "            'User-Agent': 'https://github.com/JSTOR-Labs/sw-dev-project'\n",
    "        }\n",
    "    )\n",
    "    if rsp.status_code != 200:\n",
    "        raise Exception(f\"Query failed with status code {rsp.status_code}.\")\n",
    "    return rsp.json()"
   ]
  },
  {
   "cell_type": "markdown",
   "metadata": {},
   "source": [
    "In this example four separate queries are used to generate a count of entities that are an `instance of` (property P31) 4 types of academic journal.  This same information could have been requested in a single SPARQL query using `GROUP BY` clause but Wikidata has become so large (now ~90M entities) that queries of that kind will often time out before completing.  More targeted queries are sometimes required to work around these timeouts. "
   ]
  },
  {
   "cell_type": "code",
   "execution_count": 57,
   "metadata": {},
   "outputs": [],
   "source": [
    "\n",
    "def journals_by_category():\n",
    "    print('\\nJournals by category:')\n",
    "    labels = []\n",
    "    counts = []\n",
    "    for cat, qid in journal_types:\n",
    "        labels.append(cat)\n",
    "        query = '''\n",
    "            SELECT (COUNT(?journal) AS ?count) WHERE {\n",
    "              ?journal wdt:P31 wd:%s . # %s\n",
    "            }\n",
    "        ''' % (qid, cat)\n",
    "        count = int(do_query(query)['results']['bindings'][0]['count']['value'])\n",
    "        counts.append(count)\n",
    "        print('  %s %s' % (cat, count))\n",
    "    plt.pie(counts, labels=labels)\n",
    "    plt.axis('equal')\n",
    "    plt.show()\n",
    "\n",
    "    plt.barh(labels, counts, align='center', alpha=0.5)\n",
    "    plt.title('Journals by category')\n",
    "    plt.show()\n"
   ]
  },
  {
   "cell_type": "code",
   "execution_count": 58,
   "metadata": {},
   "outputs": [
    {
     "name": "stdout",
     "output_type": "stream",
     "text": [
      "\n",
      "Journals by category:\n",
      "  Medical journal 151\n",
      "  Academic journal 18674\n",
      "  Open access journal 11978\n",
      "  Scientific journal 46517\n"
     ]
    },
    {
     "data": {
      "image/png": "[encoded data removed]",
      "text/plain": [
       "<Figure size 432x288 with 1 Axes>"
      ]
     },
     "metadata": {},
     "output_type": "display_data"
    },
    {
     "data": {
      "image/png": "[encoded data removed]",
      "text/plain": [
       "<Figure size 432x288 with 1 Axes>"
      ]
     },
     "metadata": {
      "needs_background": "light"
     },
     "output_type": "display_data"
    }
   ],
   "source": [
    "journals_by_category()"
   ]
  }
 ],
 "metadata": {
  "kernelspec": {
   "display_name": "Python 3",
   "language": "python",
   "name": "python3"
  },
  "language_info": {
   "codemirror_mode": {
    "name": "ipython",
    "version": 3
   },
   "file_extension": ".py",
   "mimetype": "text/x-python",
   "name": "python",
   "nbconvert_exporter": "python",
   "pygments_lexer": "ipython3",
   "version": "3.6.6"
  }
 },
 "nbformat": 4,
 "nbformat_minor": 2
}
